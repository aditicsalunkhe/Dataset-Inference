{
 "cells": [
  {
   "cell_type": "code",
   "execution_count": 1,
   "metadata": {},
   "outputs": [],
   "source": [
    "# Parameters\n",
    "dataset = \"MNIST\" \n",
    "v_type = \"mingd\"\n",
    "root_path = r\"C:/Users/acsalunk/Downloads/DatasetInference/Dataset-Inference/files\"\n",
    "params_path = r\"C:/Users/acsalunk/Downloads/DatasetInference/Dataset-Inference\"\n",
    "split_index = 500"
   ]
  },
  {
   "cell_type": "code",
   "execution_count": 2,
   "metadata": {},
   "outputs": [
    {
     "data": {
      "text/markdown": [
       "# MNIST - mingd results"
      ],
      "text/plain": [
       "<IPython.core.display.Markdown object>"
      ]
     },
     "metadata": {},
     "output_type": "display_data"
    }
   ],
   "source": [
    "from IPython.display import display, Markdown\n",
    "v_type2disp = dict(mingd=\"MinGD\", rand=\"Blind Walk\")\n",
    "display(Markdown(f\"# {dataset} - mingd results\"))"
   ]
  },
  {
   "cell_type": "code",
   "execution_count": 3,
   "metadata": {},
   "outputs": [
    {
     "name": "stdout",
     "output_type": "stream",
     "text": [
      "Requirement already satisfied: torch in c:\\programdata\\anaconda3\\lib\\site-packages (2.1.1)\n",
      "Requirement already satisfied: jinja2 in c:\\programdata\\anaconda3\\lib\\site-packages (from torch) (2.11.2)\n",
      "Requirement already satisfied: fsspec in c:\\programdata\\anaconda3\\lib\\site-packages (from torch) (0.8.3)\n",
      "Requirement already satisfied: networkx in c:\\programdata\\anaconda3\\lib\\site-packages (from torch) (2.5)\n",
      "Requirement already satisfied: typing-extensions in c:\\users\\acsalunk\\appdata\\roaming\\python\\python38\\site-packages (from torch) (4.3.0)\n",
      "Requirement already satisfied: filelock in c:\\programdata\\anaconda3\\lib\\site-packages (from torch) (3.0.12)\n",
      "Requirement already satisfied: sympy in c:\\programdata\\anaconda3\\lib\\site-packages (from torch) (1.6.2)\n",
      "Requirement already satisfied: MarkupSafe>=0.23 in c:\\programdata\\anaconda3\\lib\\site-packages (from jinja2->torch) (1.1.1)\n",
      "Requirement already satisfied: decorator>=4.3.0 in c:\\programdata\\anaconda3\\lib\\site-packages (from networkx->torch) (4.4.2)\n",
      "Requirement already satisfied: mpmath>=0.19 in c:\\programdata\\anaconda3\\lib\\site-packages (from sympy->torch) (1.1.0)\n"
     ]
    }
   ],
   "source": [
    "!pip install torch"
   ]
  },
  {
   "cell_type": "code",
   "execution_count": 4,
   "metadata": {},
   "outputs": [
    {
     "name": "stdout",
     "output_type": "stream",
     "text": [
      "Requirement already satisfied: typing-extensions==4.3.0 in c:\\users\\acsalunk\\appdata\\roaming\\python\\python38\\site-packages (4.3.0)\n"
     ]
    }
   ],
   "source": [
    "!pip install --user typing-extensions==4.3.0"
   ]
  },
  {
   "cell_type": "code",
   "execution_count": 5,
   "metadata": {},
   "outputs": [],
   "source": [
    "import os, sys\n",
    "sys.path.insert(0, params_path)\n",
    "\n",
    "import argparse, params, time\n",
    "import numpy as np\n",
    "import torch\n",
    "import torch.nn as nn\n",
    "import torch.optim as optim\n",
    "from importlib import reload\n",
    "from tqdm.auto import tqdm\n",
    "\n",
    "import random\n",
    "\n",
    "torch.manual_seed(0)\n",
    "np.random.seed(0)\n",
    "random.seed(0)"
   ]
  },
  {
   "cell_type": "code",
   "execution_count": 6,
   "metadata": {},
   "outputs": [],
   "source": [
    "import seaborn as sns\n",
    "import pandas as pd\n",
    "import os"
   ]
  },
  {
   "cell_type": "code",
   "execution_count": 7,
   "metadata": {},
   "outputs": [],
   "source": [
    "from scipy.stats import combine_pvalues, ttest_ind_from_stats, ttest_ind\n",
    "from functools import reduce\n",
    "from scipy.stats import hmean"
   ]
  },
  {
   "cell_type": "markdown",
   "metadata": {},
   "source": [
    "## Use the full vectors to train a linear model"
   ]
  },
  {
   "cell_type": "code",
   "execution_count": 8,
   "metadata": {},
   "outputs": [],
   "source": [
    "model_types = ['distillation', 'teacher']"
   ]
  },
  {
   "cell_type": "code",
   "execution_count": 9,
   "metadata": {},
   "outputs": [
    {
     "name": "stdout",
     "output_type": "stream",
     "text": [
      "C:/Users/acsalunk/Downloads/DatasetInference/Dataset-Inference/files/MNIST/teacher\n",
      "C:/Users/acsalunk/Downloads/DatasetInference/Dataset-Inference/files/MNIST/student\n"
     ]
    }
   ],
   "source": [
    "names = [\"teacher\",\"student\"]\n",
    "trains = {}\n",
    "tests = {}\n",
    "for i in range(len(names)):\n",
    "    temp_path = root_path + \"/MNIST/\" + names[i]\n",
    "    print(temp_path)\n",
    "    trains[names[i]] = (torch.load(f\"{temp_path}/train_{v_type}_vulnerability_2.pt\"))\n",
    "    tests[names[i]] = (torch.load(f\"{temp_path}/test_{v_type}_vulnerability_2.pt\"))\n",
    "mean_mnist = trains[\"teacher\"].mean(dim = (0,1))\n",
    "std_mnist = trains[\"teacher\"].std(dim = (0,1))"
   ]
  },
  {
   "cell_type": "code",
   "execution_count": 10,
   "metadata": {},
   "outputs": [
    {
     "name": "stderr",
     "output_type": "stream",
     "text": [
      "<ipython-input-10-a152a02d8fd4>:16: UserWarning: The use of `x.T` on tensors of dimension other than 2 to reverse their shape is deprecated and it will throw an error in a future release. Consider `x.mT` to transpose batches of matrices or `x.permute(*torch.arange(x.ndim - 1, -1, -1))` to reverse the dimensions of a tensor. (Triggered internally at C:\\actions-runner\\_work\\pytorch\\pytorch\\builder\\windows\\pytorch\\aten\\src\\ATen\\native\\TensorShape.cpp:3618.)\n",
      "  trains_n[name] = trains[name].T.reshape(1000,f_num)[:,:a_num]\n"
     ]
    }
   ],
   "source": [
    "if v_type == \"mingd\":\n",
    "    for name in names:\n",
    "        trains[name] = trains[name].sort(dim = 1)[0]\n",
    "        tests[name] = tests[name].sort(dim = 1)[0]\n",
    "        \n",
    "for name in names:\n",
    "    trains[name] = (trains[name]- mean_mnist)/std_mnist\n",
    "    tests[name] = (tests[name]- mean_mnist)/std_mnist\n",
    "    \n",
    "f_num = 30\n",
    "a_num=30\n",
    "\n",
    "trains_n = {}\n",
    "tests_n = {}\n",
    "for name in names:\n",
    "    trains_n[name] = trains[name].T.reshape(1000,f_num)[:,:a_num]\n",
    "    tests_n[name] = tests[name].T.reshape(1000,f_num)[:,:a_num]"
   ]
  },
  {
   "cell_type": "code",
   "execution_count": 11,
   "metadata": {},
   "outputs": [],
   "source": [
    "n_ex = split_index\n",
    "train = torch.cat((trains_n[\"teacher\"][:n_ex], tests_n[\"teacher\"][:n_ex]), dim = 0)\n",
    "y = torch.cat((torch.zeros(n_ex), torch.ones(n_ex)), dim = 0)\n",
    "\n",
    "rand=torch.randperm(y.shape[0])\n",
    "train = train[rand]\n",
    "y = y[rand]"
   ]
  },
  {
   "cell_type": "code",
   "execution_count": 12,
   "metadata": {},
   "outputs": [],
   "source": [
    "model = nn.Sequential(nn.Linear(a_num,100),nn.ReLU(),nn.Linear(100,1),nn.Tanh())\n",
    "criterion = nn.CrossEntropyLoss()\n",
    "optimizer =torch.optim.SGD(model.parameters(), lr=0.1)"
   ]
  },
  {
   "cell_type": "code",
   "execution_count": 13,
   "metadata": {},
   "outputs": [
    {
     "data": {
      "application/vnd.jupyter.widget-view+json": {
       "model_id": "ca536c6768124c41a1de16d8f60ccb32",
       "version_major": 2,
       "version_minor": 0
      },
      "text/plain": [
       "HBox(children=(HTML(value=''), FloatProgress(value=0.0, max=1000.0), HTML(value='')))"
      ]
     },
     "metadata": {},
     "output_type": "display_data"
    },
    {
     "name": "stdout",
     "output_type": "stream",
     "text": [
      "\n"
     ]
    }
   ],
   "source": [
    "with tqdm(range(1000)) as pbar:\n",
    "    for epoch in pbar:\n",
    "        optimizer.zero_grad()\n",
    "        inputs = train\n",
    "        outputs = model(inputs)\n",
    "        loss = -1 * ((2*y-1)*(outputs.squeeze(-1))).mean()\n",
    "        loss.backward()\n",
    "        optimizer.step()\n",
    "        pbar.set_description('loss {}'.format(loss.item()))"
   ]
  },
  {
   "cell_type": "markdown",
   "metadata": {},
   "source": [
    "## Dataset Inference "
   ]
  },
  {
   "cell_type": "code",
   "execution_count": 14,
   "metadata": {},
   "outputs": [],
   "source": [
    "def get_p(outputs_train, outputs_test):\n",
    "    pred_test = outputs_test[:,0].detach().cpu().numpy()\n",
    "    pred_train = outputs_train[:,0].detach().cpu().numpy()\n",
    "    tval, pval = ttest_ind(pred_test, pred_train, equal_var=False)\n",
    "    if pval < 0:\n",
    "        raise Exception(f\"p-value={pval}\")\n",
    "    return pval\n",
    "\n",
    "def get_p_values(num_ex, train, test, k):\n",
    "    total = train.shape[0]\n",
    "    sum_p = 0\n",
    "    p_values = []\n",
    "    positions_list = []\n",
    "    for i in range(k):\n",
    "        positions = torch.randperm(total)[:num_ex]\n",
    "        p_val = get_p(train[positions], test[positions])\n",
    "        positions_list.append(positions)\n",
    "        p_values.append(p_val)\n",
    "    return p_values\n",
    "\n",
    "def get_fischer(num_ex, train, test, k):\n",
    "    p_values = get_p_values(num_ex, train, test, k)\n",
    "    return combine_pvalues(p_values, method=\"mudholkar_george\")[1]\n",
    "\n",
    "def get_max_p_value(num_ex, train, test, k):\n",
    "    p_values = get_p_values(num_ex, train, test, k)\n",
    "    return max(p_values)"
   ]
  },
  {
   "cell_type": "code",
   "execution_count": 15,
   "metadata": {},
   "outputs": [],
   "source": [
    "outputs_tr = {}\n",
    "outputs_te = {}\n",
    "for name in names:\n",
    "    outputs_tr[name] = model(trains_n[name])\n",
    "    outputs_te[name] = model(tests_n[name])"
   ]
  },
  {
   "cell_type": "code",
   "execution_count": 16,
   "metadata": {},
   "outputs": [],
   "source": [
    "import scipy.stats as stats\n",
    "def print_inference(outputs_train, outputs_test):\n",
    "    m1, m2 = outputs_test[:,0].mean(), outputs_train[:,0].mean()\n",
    "    pval = get_p(outputs_train, outputs_test)\n",
    "    print(f\"p-value = {pval} \\t| Mean difference = {m1-m2}\")"
   ]
  },
  {
   "cell_type": "code",
   "execution_count": 17,
   "metadata": {},
   "outputs": [],
   "source": [
    "for name in names:\n",
    "    outputs_tr[name], outputs_te[name] = outputs_tr[name][split_index:], outputs_te[name][split_index:]"
   ]
  },
  {
   "cell_type": "code",
   "execution_count": 18,
   "metadata": {},
   "outputs": [
    {
     "name": "stdout",
     "output_type": "stream",
     "text": [
      "teacher\n",
      "p-value = 2.978426705729042e-12 \t| Mean difference = 0.26961424946784973\n",
      "student\n",
      "p-value = 4.063363769769808e-12 \t| Mean difference = 0.266294002532959\n"
     ]
    }
   ],
   "source": [
    "for name in names:\n",
    "    print(f\"{name}\")\n",
    "    print_inference(outputs_tr[name], outputs_te[name])"
   ]
  },
  {
   "cell_type": "code",
   "execution_count": 19,
   "metadata": {},
   "outputs": [],
   "source": [
    "if not os.path.exists(f\"{dataset}_{v_type}.h5\"):\n",
    "    total_reps = 40\n",
    "    max_m = 45\n",
    "    total_inner_rep = 100\n",
    "\n",
    "    m_list = [x for x in range(2, max_m, 1)]\n",
    "    p_values_all_threat_models_dict = {}\n",
    "\n",
    "    n_pbar = tqdm(names, leave=False)\n",
    "    for name in n_pbar:\n",
    "        p_vals_per_rep_no = {}\n",
    "        r_pbar = tqdm(range(total_reps), leave=False)\n",
    "        for rep_no in r_pbar:\n",
    "            p_values_list = []\n",
    "            for m in m_list:\n",
    "                p_list = get_p_values(m, outputs_tr[name], outputs_te[name], total_inner_rep)\n",
    "                try:\n",
    "                    hm = hmean(p_list)\n",
    "                except:\n",
    "                    hm = 1.0\n",
    "                p_values_list.append(hm)\n",
    "                pbar.set_description(f\"{rep_no: 2d} {name} m={m: 3d}: f{hm: 0.5f}\")\n",
    "            r_pbar.set_description(f\"rep_no: {rep_no+1}/{total_reps}\")\n",
    "            p_vals_per_rep_no[rep_no] = p_values_list\n",
    "        p_values_all_threat_models_dict[name] = p_vals_per_rep_no\n",
    "        \n",
    "    df_list = []\n",
    "    for name, rep_dict in p_values_all_threat_models_dict.items():\n",
    "        df = pd.DataFrame(rep_dict).reset_index().assign(m=lambda r: r.index+2).drop([\"index\"], axis=1)\n",
    "        df_list.append(pd.melt(df,id_vars=[\"m\"], var_name=\"rep_no\", value_name=\"p_value\").assign(threat_model=name))\n",
    "    results_df = pd.concat(df_list)\n",
    "    \n",
    "    results_df.to_hdf(f\"{dataset}_{v_type}.h5\", v_type)\n",
    "    results_df\n",
    "else:\n",
    "    results_df = pd.read_hdf(f\"{dataset}_{v_type}.h5\", v_type)"
   ]
  },
  {
   "cell_type": "markdown",
   "metadata": {},
   "source": [
    "### Plotting"
   ]
  },
  {
   "cell_type": "code",
   "execution_count": 20,
   "metadata": {},
   "outputs": [],
   "source": [
    "import matplotlib as mpl\n",
    "import matplotlib.pyplot as plt\n",
    "\n",
    "mpl.rcParams['text.latex.preamble'] = r'\\usepackage{times}'\n",
    "\n",
    "plt.rcParams.update({\n",
    "    \"text.usetex\": True,\n",
    "})"
   ]
  },
  {
   "cell_type": "markdown",
   "metadata": {},
   "source": [
    "### Renaming"
   ]
  },
  {
   "cell_type": "code",
   "execution_count": 21,
   "metadata": {},
   "outputs": [],
   "source": [
    "rename_dict = {\n",
    "    \"threat_model\": \"Threat Model\", \n",
    "    \"teacher\": \"Source\", \n",
    "    \"distillation\": \"Distillation\", \n",
    "    \"extract-label\": \"Label-Query\", \n",
    "    \"extract-logit\": \"Logit-Query\", \n",
    "    \"zero-shot\": \"Zero-Shot Learning\",\n",
    "    \"fine-tune\": \"Fine-Tuning\",\n",
    "    \"pre-act-18\": \"Diff. Architecture\",\n",
    "    }"
   ]
  },
  {
   "cell_type": "code",
   "execution_count": 22,
   "metadata": {},
   "outputs": [],
   "source": [
    "plot_df = (results_df.rename(columns=rename_dict).replace(rename_dict)\n",
    "           .query('(m >= 5)')\n",
    "          )"
   ]
  },
  {
   "cell_type": "code",
   "execution_count": 27,
   "metadata": {},
   "outputs": [
    {
     "name": "stdout",
     "output_type": "stream",
     "text": [
      "       m  rep_no   p_value Threat Model\n",
      "3      5       0  0.141524       Source\n",
      "4      6       0  0.053071       Source\n",
      "5      7       0  0.049553       Source\n",
      "6      8       0  0.076193       Source\n",
      "7      9       0  0.098495       Source\n",
      "...   ..     ...       ...          ...\n",
      "1715  40      39  0.000944      student\n",
      "1716  41      39  0.000285      student\n",
      "1717  42      39  0.000364      student\n",
      "1718  43      39  0.001854      student\n",
      "1719  44      39  0.001283      student\n",
      "\n",
      "[3200 rows x 4 columns]\n"
     ]
    }
   ],
   "source": [
    "print(plot_df)"
   ]
  },
  {
   "cell_type": "code",
   "execution_count": 23,
   "metadata": {},
   "outputs": [],
   "source": [
    "# Sizes\n",
    "SMALL_SIZE = 14\n",
    "MEDIUM_SIZE = SMALL_SIZE + 1\n",
    "BIGGER_SIZE = MEDIUM_SIZE + 1\n",
    "plt.rc('font', size=SMALL_SIZE)          # controls default text sizes\n",
    "plt.rc('axes', titlesize=SMALL_SIZE)     # fontsize of the axes title\n",
    "plt.rc('axes', labelsize=MEDIUM_SIZE)    # fontsi ze of the x and y labels\n",
    "plt.rc('xtick', labelsize=SMALL_SIZE)    # fontsize of the tick labels\n",
    "plt.rc('ytick', labelsize=SMALL_SIZE)    # fontsize of the tick labels\n",
    "plt.rc('legend', fontsize=SMALL_SIZE)    # legend fontsize\n",
    "plt.rc('figure', titlesize=BIGGER_SIZE)  # fontsize of the figure title"
   ]
  },
  {
   "cell_type": "code",
   "execution_count": 24,
   "metadata": {},
   "outputs": [],
   "source": [
    "import os    \n",
    "os.environ['KMP_DUPLICATE_LIB_OK'] = 'True'"
   ]
  },
  {
   "cell_type": "code",
   "execution_count": 28,
   "metadata": {},
   "outputs": [],
   "source": [
    "import matplotlib as mpl\n",
    "mpl.rcParams.update(mpl.rcParamsDefault)"
   ]
  },
  {
   "cell_type": "code",
   "execution_count": 29,
   "metadata": {},
   "outputs": [
    {
     "data": {
      "text/plain": [
       "Text(0, 0.5, 'p-value')"
      ]
     },
     "execution_count": 29,
     "metadata": {},
     "output_type": "execute_result"
    },
    {
     "data": {
      "image/png": "[encoded data removed]",
      "text/plain": [
       "<Figure size 1200x450 with 1 Axes>"
      ]
     },
     "metadata": {},
     "output_type": "display_data"
    }
   ],
   "source": [
    "fig, ax = plt.subplots(figsize=(8, 3), dpi=150)\n",
    "g = sns.lineplot(x=\"m\", y=\"p_value\", hue=\"Threat Model\", data=plot_df, ax=ax, ci=99)\n",
    "g.axhline(0.05, ls='--', color=\"black\", alpha=0.4)\n",
    "g.axhline(0.01, ls='--', color=\"black\", alpha=0.4)\n",
    "g.set_xlabel(\"Number of Sample Revealed\")\n",
    "g.set_ylabel(\"p-value\")"
   ]
  },
  {
   "cell_type": "markdown",
   "metadata": {},
   "source": [
    "## Table"
   ]
  },
  {
   "cell_type": "code",
   "execution_count": 26,
   "metadata": {},
   "outputs": [
    {
     "ename": "NameError",
     "evalue": "name 'generate_table' is not defined",
     "output_type": "error",
     "traceback": [
      "\u001b[1;31m---------------------------------------------------------------------------\u001b[0m",
      "\u001b[1;31mNameError\u001b[0m                                 Traceback (most recent call last)",
      "\u001b[1;32m<ipython-input-26-d87c34de72ff>\u001b[0m in \u001b[0;36m<module>\u001b[1;34m\u001b[0m\n\u001b[1;32m----> 1\u001b[1;33m \u001b[0mtab\u001b[0m \u001b[1;33m=\u001b[0m \u001b[0mgenerate_table\u001b[0m\u001b[1;33m(\u001b[0m\u001b[0mselected_m\u001b[0m\u001b[1;33m=\u001b[0m\u001b[1;36m10\u001b[0m\u001b[1;33m,\u001b[0m \u001b[0moutputs_te\u001b[0m\u001b[1;33m=\u001b[0m\u001b[0moutputs_te\u001b[0m\u001b[1;33m,\u001b[0m \u001b[0moutputs_tr\u001b[0m\u001b[1;33m=\u001b[0m\u001b[0moutputs_tr\u001b[0m\u001b[1;33m,\u001b[0m \u001b[0mnames\u001b[0m\u001b[1;33m=\u001b[0m\u001b[0mnames\u001b[0m\u001b[1;33m)\u001b[0m\u001b[1;33m\u001b[0m\u001b[1;33m\u001b[0m\u001b[0m\n\u001b[0m",
      "\u001b[1;31mNameError\u001b[0m: name 'generate_table' is not defined"
     ]
    }
   ],
   "source": [
    "tab = generate_table(selected_m=10, outputs_te=outputs_te, outputs_tr=outputs_tr, names=names)"
   ]
  },
  {
   "cell_type": "code",
   "execution_count": null,
   "metadata": {},
   "outputs": [],
   "source": [
    "with pd.option_context(\"display.float_format\", lambda x: f\"{x: 0.3f}\"):\n",
    "    print(tab)"
   ]
  },
  {
   "cell_type": "code",
   "execution_count": null,
   "metadata": {},
   "outputs": [],
   "source": [
    "with pd.option_context(\"display.float_format\", lambda x: f\"{x: 0.3f}\"):\n",
    "    print(tab.to_latex(formatters=dict(mean_diff=\"{:0.3f}\".format, p_value=lambda x: \"$10^{\"+f\"{x:0.0E}\"[2:]+\"}$\"), escape=False))"
   ]
  }
 ],
 "metadata": {
  "kernelspec": {
   "display_name": "Python 3",
   "language": "python",
   "name": "python3"
  },
  "language_info": {
   "codemirror_mode": {
    "name": "ipython",
    "version": 3
   },
   "file_extension": ".py",
   "mimetype": "text/x-python",
   "name": "python",
   "nbconvert_exporter": "python",
   "pygments_lexer": "ipython3",
   "version": "3.8.5"
  }
 },
 "nbformat": 4,
 "nbformat_minor": 2
}
